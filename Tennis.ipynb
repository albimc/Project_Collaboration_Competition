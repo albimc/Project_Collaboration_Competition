{
 "cells": [
  {
   "cell_type": "markdown",
   "metadata": {},
   "source": [
    "# Collaboration and Competition\n",
    "\n",
    "---\n",
    "\n",
    "In this notebook, we will learn how to use the Unity ML-Agents environment for the third project of the [Deep Reinforcement Learning Nanodegree](https://www.udacity.com/course/deep-reinforcement-learning-nanodegree--nd893) program.\n",
    "\n",
    "### 1. Start the Environment\n",
    "\n",
    "We begin by importing the necessary packages.  If the code cell below returns an error, please revisit the project instructions to double-check that you have installed [Unity ML-Agents](https://github.com/Unity-Technologies/ml-agents/blob/master/docs/Installation.md) and [NumPy](http://www.numpy.org/)."
   ]
  },
  {
   "cell_type": "code",
   "execution_count": 1,
   "metadata": {},
   "outputs": [],
   "source": [
    "from unityagents import UnityEnvironment\n",
    "\n",
    "import os\n",
    "import numpy as np\n",
    "import pandas as pd\n",
    "import matplotlib.pyplot as plt\n",
    "\n",
    "import copy\n",
    "import inspect\n",
    "import time\n",
    "from collections import namedtuple, deque\n",
    "\n",
    "import random\n",
    "\n",
    "import torch\n",
    "import torch.nn as nn\n",
    "import torch.nn.functional as F\n",
    "import torch.optim as optim\n",
    "\n",
    "# Check Progress\n",
    "from tensorboardX import SummaryWriter\n",
    "import progressbar as pb\n",
    "import time\n",
    "\n",
    "\n",
    "device = torch.device(\"cuda:0\" if torch.cuda.is_available() else \"cpu\")"
   ]
  },
  {
   "cell_type": "markdown",
   "metadata": {},
   "source": [
    "Next, we will start the environment!  **_Before running the code cell below_**, change the `file_name` parameter to match the location of the Unity environment that you downloaded.\n",
    "\n",
    "- **Mac**: `\"path/to/Tennis.app\"`\n",
    "- **Windows** (x86): `\"path/to/Tennis_Windows_x86/Tennis.exe\"`\n",
    "- **Windows** (x86_64): `\"path/to/Tennis_Windows_x86_64/Tennis.exe\"`\n",
    "- **Linux** (x86): `\"path/to/Tennis_Linux/Tennis.x86\"`\n",
    "- **Linux** (x86_64): `\"path/to/Tennis_Linux/Tennis.x86_64\"`\n",
    "- **Linux** (x86, headless): `\"path/to/Tennis_Linux_NoVis/Tennis.x86\"`\n",
    "- **Linux** (x86_64, headless): `\"path/to/Tennis_Linux_NoVis/Tennis.x86_64\"`\n",
    "\n",
    "For instance, if you are using a Mac, then you downloaded `Tennis.app`.  If this file is in the same folder as the notebook, then the line below should appear as follows:\n",
    "```\n",
    "env = UnityEnvironment(file_name=\"Tennis.app\")\n",
    "```"
   ]
  },
  {
   "cell_type": "code",
   "execution_count": 2,
   "metadata": {},
   "outputs": [
    {
     "name": "stderr",
     "output_type": "stream",
     "text": [
      "INFO:unityagents:\n",
      "'Academy' started successfully!\n",
      "Unity Academy name: Academy\n",
      "        Number of Brains: 1\n",
      "        Number of External Brains : 1\n",
      "        Lesson number : 0\n",
      "        Reset Parameters :\n",
      "\t\t\n",
      "Unity brain name: TennisBrain\n",
      "        Number of Visual Observations (per agent): 0\n",
      "        Vector Observation space type: continuous\n",
      "        Vector Observation space size (per agent): 8\n",
      "        Number of stacked Vector Observation: 3\n",
      "        Vector Action space type: continuous\n",
      "        Vector Action space size (per agent): 2\n",
      "        Vector Action descriptions: , \n"
     ]
    }
   ],
   "source": [
    "env = UnityEnvironment(file_name=\"./Tennis_Linux_NoVis/Tennis.x86_64\")"
   ]
  },
  {
   "cell_type": "markdown",
   "metadata": {},
   "source": [
    "Environments contain **_brains_** which are responsible for deciding the actions of their associated agents. Here we check for the first brain available, and set it as the default brain we will be controlling from Python."
   ]
  },
  {
   "cell_type": "code",
   "execution_count": 3,
   "metadata": {},
   "outputs": [
    {
     "name": "stdout",
     "output_type": "stream",
     "text": [
      "Unity brain name: TennisBrain\n",
      "        Number of Visual Observations (per agent): 0\n",
      "        Vector Observation space type: continuous\n",
      "        Vector Observation space size (per agent): 8\n",
      "        Number of stacked Vector Observation: 3\n",
      "        Vector Action space type: continuous\n",
      "        Vector Action space size (per agent): 2\n",
      "        Vector Action descriptions: , \n"
     ]
    }
   ],
   "source": [
    "# get the default brain\n",
    "brain_name = env.brain_names[0]\n",
    "brain = env.brains[brain_name]\n",
    "print (brain)"
   ]
  },
  {
   "cell_type": "markdown",
   "metadata": {},
   "source": [
    "### 2. Examine the State and Action Spaces\n",
    "\n",
    "In this environment, two agents control rackets to bounce a ball over a net. If an agent hits the ball over the net, it receives a reward of +0.1.  If an agent lets a ball hit the ground or hits the ball out of bounds, it receives a reward of -0.01.  Thus, the goal of each agent is to keep the ball in play.\n",
    "\n",
    "The observation space consists of 8 variables corresponding to the position and velocity of the ball and racket. Two continuous actions are available, corresponding to movement toward (or away from) the net, and jumping. \n",
    "\n",
    "Run the code cell below to print some information about the environment."
   ]
  },
  {
   "cell_type": "code",
   "execution_count": 4,
   "metadata": {},
   "outputs": [
    {
     "name": "stdout",
     "output_type": "stream",
     "text": [
      "Number of agents: 2\n",
      "Size of each action: 2\n",
      "There are 2 agents. Each observes a state with length: 24\n",
      "The state for the first agent looks like: [ 0.          0.          0.          0.          0.          0.\n",
      "  0.          0.          0.          0.          0.          0.\n",
      "  0.          0.          0.          0.         -6.65278625 -1.5\n",
      " -0.          0.          6.83172083  6.         -0.          0.        ]\n",
      "The state for the second agent looks like: [ 0.          0.          0.          0.          0.          0.\n",
      "  0.          0.          0.          0.          0.          0.\n",
      "  0.          0.          0.          0.         -6.4669857  -1.5\n",
      "  0.          0.         -6.83172083  6.          0.          0.        ]\n"
     ]
    }
   ],
   "source": [
    "# reset the environment\n",
    "env_info = env.reset(train_mode=True)[brain_name]\n",
    "\n",
    "# number of agents \n",
    "num_agents = len(env_info.agents)\n",
    "print('Number of agents:', num_agents)\n",
    "\n",
    "# size of each action\n",
    "action_size = brain.vector_action_space_size\n",
    "print('Size of each action:', action_size)\n",
    "\n",
    "# examine the state space \n",
    "states = env_info.vector_observations\n",
    "state_size = states.shape[1]\n",
    "print('There are {} agents. Each observes a state with length: {}'.format(states.shape[0], state_size))\n",
    "print('The state for the first agent looks like:', states[0])\n",
    "print('The state for the second agent looks like:', states[1])"
   ]
  },
  {
   "cell_type": "markdown",
   "metadata": {},
   "source": [
    "### 3. Take Random Actions in the Environment\n",
    "\n",
    "In the next code cell, you will learn how to use the Python API to control the agents and receive feedback from the environment.\n",
    "\n",
    "Once this cell is executed, you will watch the agents' performance, if they select actions at random with each time step.  A window should pop up that allows you to observe the agents.\n",
    "\n",
    "Of course, as part of the project, you'll have to change the code so that the agents are able to use their experiences to gradually choose better actions when interacting with the environment!"
   ]
  },
  {
   "cell_type": "code",
   "execution_count": 5,
   "metadata": {},
   "outputs": [
    {
     "name": "stdout",
     "output_type": "stream",
     "text": [
      "Score (max over agents) from episode 0: 0.0000\n",
      "Score (max over agents) from episode 1: 0.0000\n",
      "Score (max over agents) from episode 2: 0.0000\n",
      "Score (max over agents) from episode 3: 0.1000\n",
      "Score (max over agents) from episode 4: 0.0000\n"
     ]
    }
   ],
   "source": [
    "for i in range(5):                                      # play game for 5 episodes\n",
    "    env_info = env.reset(train_mode=False)[brain_name]     # reset the environment    \n",
    "    states = env_info.vector_observations                  # get the current state (for each agent)\n",
    "    scores = np.zeros(num_agents)                          # initialize the score (for each agent)\n",
    "    j = 0\n",
    "    while True:\n",
    "        j += 1\n",
    "        actions = np.random.randn(num_agents, action_size) # select an action (for each agent)\n",
    "        actions = np.clip(actions, -1, 1)                  # all actions between -1 and 1\n",
    "        env_info = env.step(actions)[brain_name]           # send all actions to tne environment\n",
    "        next_states = env_info.vector_observations         # get next state (for each agent)\n",
    "        rewards = env_info.rewards                         # get reward (for each agent)\n",
    "        # print('Rewards from step {}: {:.2f},{:.2f}'.format(i, rewards[0], rewards[1]))\n",
    "        dones = env_info.local_done                        # see if episode finished\n",
    "        scores += rewards                                  # update the score (for each agent)\n",
    "        # print('\\t {:.2f},{:.2f}'.format( scores[0],scores[1]))\n",
    "        states = next_states                               # roll over states to next time step\n",
    "        if np.any(dones):                                  # exit loop if episode finished\n",
    "            break\n",
    "    print('Score (max over agents) from episode {}: {:.4f}'.format(i, np.max(scores)))\n",
    "    # print(actions)"
   ]
  },
  {
   "cell_type": "markdown",
   "metadata": {},
   "source": [
    "When finished, you can close the environment."
   ]
  },
  {
   "cell_type": "markdown",
   "metadata": {},
   "source": [
    "# Training "
   ]
  },
  {
   "cell_type": "markdown",
   "metadata": {},
   "source": [
    "###  Local Libraries\n",
    "- Multi-Agent Actor-Critic Deep Deterministic Policy from **maddpg.py** imports single agents from **ddpg.py** and eploratory noise process from **OUNoise.py**  \n",
    "- Experiences are stored adn sampled from **replaybuffer.py**\n",
    "- Other utilies functions imported from **utilities.py**"
   ]
  },
  {
   "cell_type": "code",
   "execution_count": 6,
   "metadata": {},
   "outputs": [],
   "source": [
    "# Multi-Agent\n",
    "from maddpg import MADDPG\n",
    "# Replay Buffer\n",
    "from replaybuffer import ReplayBuffer\n",
    "# Utilities\n",
    "from utilities import seeding"
   ]
  },
  {
   "cell_type": "markdown",
   "metadata": {},
   "source": [
    "### Config"
   ]
  },
  {
   "cell_type": "code",
   "execution_count": 7,
   "metadata": {},
   "outputs": [],
   "source": [
    "    # Target Reward\n",
    "    tgt_score = 0.5\n",
    "    # Device\n",
    "    device = torch.device(\"cuda\" if torch.cuda.is_available() else \"cpu\")\n",
    "    # Seed\n",
    "    seed = 2\n",
    "    seeding(seed)\n",
    "    # Model Architecture\n",
    "    # Actor\n",
    "    hidden_in_actor = 256\n",
    "    hidden_out_actor = 128\n",
    "    lr_actor = 1e-4\n",
    "    # Critic\n",
    "    hidden_in_critic = 256\n",
    "    hidden_out_critic = 128\n",
    "    lr_critic = 3e-4\n",
    "    weight_decay_critic = 0\n",
    "    # Episodes\n",
    "    number_of_episodes = 10000\n",
    "    episode_length = 2000\n",
    "    # Buffer\n",
    "    buffer_size = int(1e6)\n",
    "    batchsize = 512\n",
    "    # Agent Update Frequency\n",
    "    episode_per_update = 1\n",
    "    # Rewards Discounts Factor\n",
    "    discount_factor = 1\n",
    "    # Soft Update Weight\n",
    "    tau = 0.02\n",
    "    # Noise Process\n",
    "    noise_factor = 2\n",
    "    noise_reduction = 0.9999\n",
    "    noise_floor = 0.1\n",
    "    # Window\n",
    "    win_len = 100\n",
    "    # Save Frequency\n",
    "    save_interval = 200\n",
    "    # Logger\n",
    "    log_path = os.getcwd()+\"/log\"\n",
    "    logger = SummaryWriter(log_dir=log_path)\n",
    "    # Model Directory\n",
    "    model_dir = os.getcwd()+\"/model_dir\"\n",
    "    os.makedirs(model_dir, exist_ok=True)\n",
    "    # Load Saved Model\n",
    "    load_model = False\n"
   ]
  },
  {
   "cell_type": "markdown",
   "metadata": {},
   "source": [
    "### Load Environment"
   ]
  },
  {
   "cell_type": "code",
   "execution_count": 8,
   "metadata": {},
   "outputs": [
    {
     "name": "stdout",
     "output_type": "stream",
     "text": [
      "Brain Name: TennisBrain\n",
      "Number of agents: 2\n",
      "Size of each action: 2\n",
      "There are 2 agents. Each observes a state with length: 24\n"
     ]
    }
   ],
   "source": [
    "    # env = UnityEnvironment(file_name=\"./Tennis_Linux_NoVis/Tennis.x86_64\")\n",
    "    # Get brain\n",
    "    brain_name = env.brain_names[0]\n",
    "    brain = env.brains[brain_name]\n",
    "    print('Brain Name:', brain_name)\n",
    "    # Reset the environment\n",
    "    env_info = env.reset(train_mode=True)[brain_name]\n",
    "    # Number of Agents\n",
    "    num_agents = len(env_info.agents)\n",
    "    print('Number of agents:', num_agents)\n",
    "    # size of each action\n",
    "    action_size = brain.vector_action_space_size\n",
    "    print('Size of each action:', action_size)\n",
    "    # examine the state space\n",
    "    states = env_info.vector_observations\n",
    "    state_size = states.shape[1]\n",
    "    print('There are {} agents. Each observes a state with length: {}'.format(states.shape[0], state_size))\n"
   ]
  },
  {
   "cell_type": "markdown",
   "metadata": {},
   "source": [
    " ### Multi Agent"
   ]
  },
  {
   "cell_type": "code",
   "execution_count": 9,
   "metadata": {},
   "outputs": [],
   "source": [
    "    maddpg = MADDPG(state_size, action_size, num_agents,\n",
    "                    hidden_in_actor, hidden_out_actor, lr_actor,\n",
    "                    hidden_in_critic, hidden_out_critic, lr_critic, weight_decay_critic,\n",
    "                    discount_factor, tau, seed, device)\n",
    "\n",
    "    if load_model:\n",
    "        load_dict_list = torch.load(os.path.join(model_dir, 'episode-saved.pt'))\n",
    "        for i in range(num_agents):\n",
    "            maddpg.maddpg_agent[i].actor.load_state_dict(load_dict_list[i]['actor_params'])\n",
    "            maddpg.maddpg_agent[i].actor_optimizer.load_state_dict(load_dict_list[i]['actor_optim_params'])\n",
    "            maddpg.maddpg_agent[i].critic.load_state_dict(load_dict_list[i]['critic_params'])\n",
    "            maddpg.maddpg_agent[i].critic_optimizer.load_state_dict(load_dict_list[i]['critic_optim_params'])\n"
   ]
  },
  {
   "cell_type": "markdown",
   "metadata": {},
   "source": [
    " ### Replay Buffer"
   ]
  },
  {
   "cell_type": "code",
   "execution_count": 10,
   "metadata": {},
   "outputs": [],
   "source": [
    "rebuffer = ReplayBuffer(buffer_size, seed, device)"
   ]
  },
  {
   "cell_type": "markdown",
   "metadata": {},
   "source": [
    " ## TRAINING LOOP"
   ]
  },
  {
   "cell_type": "markdown",
   "metadata": {},
   "source": [
    "### Show Progressbar"
   ]
  },
  {
   "cell_type": "code",
   "execution_count": 11,
   "metadata": {},
   "outputs": [
    {
     "name": "stderr",
     "output_type": "stream",
     "text": [
      "episode: 0/10000   0% ETA:  --:--:-- |                                       | \r"
     ]
    }
   ],
   "source": [
    "    widget = ['episode: ', pb.Counter(), '/', str(number_of_episodes), ' ',\n",
    "              pb.Percentage(), ' ', pb.ETA(), ' ', pb.Bar(marker=pb.RotatingMarker()), ' ']\n",
    "    timer = pb.ProgressBar(widgets=widget, maxval=number_of_episodes).start()\n",
    "    start = time.time()\n"
   ]
  },
  {
   "cell_type": "markdown",
   "metadata": {},
   "source": [
    "### PLAY and LEARN"
   ]
  },
  {
   "cell_type": "code",
   "execution_count": 12,
   "metadata": {},
   "outputs": [
    {
     "name": "stderr",
     "output_type": "stream",
     "text": [
      "episode: 0/10000   0% ETA:  --:--:-- |                                       | \r"
     ]
    },
    {
     "name": "stdout",
     "output_type": "stream",
     "text": [
      "\n",
      "Elapsed time 0.0 \t Update Count 0 \t Last Episode t 13 \n",
      "Episode 0 \tAverage Score: 0.00 \tNoise Factor 1.999800\n"
     ]
    },
    {
     "name": "stderr",
     "output_type": "stream",
     "text": [
      "episode: 199/10000   1% ETA:  0:17:22 |                                      | \r"
     ]
    },
    {
     "name": "stdout",
     "output_type": "stream",
     "text": [
      "\n",
      "Elapsed time 0.4 \t Update Count 170 \t Last Episode t 13 \n",
      "Episode 200 \tAverage Score: 0.01 \tNoise Factor 1.960199\n"
     ]
    },
    {
     "name": "stderr",
     "output_type": "stream",
     "text": [
      "episode: 399/10000   3% ETA:  0:16:30 |\\                                     | \r"
     ]
    },
    {
     "name": "stdout",
     "output_type": "stream",
     "text": [
      "\n",
      "Elapsed time 0.7 \t Update Count 370 \t Last Episode t 14 \n",
      "Episode 400 \tAverage Score: 0.00 \tNoise Factor 1.921383\n"
     ]
    },
    {
     "name": "stderr",
     "output_type": "stream",
     "text": [
      "episode: 601/10000   6% ETA:  0:16:27 |||                                    | \r"
     ]
    },
    {
     "name": "stdout",
     "output_type": "stream",
     "text": [
      "\n",
      "Elapsed time 1.0 \t Update Count 570 \t Last Episode t 13 \n",
      "Episode 600 \tAverage Score: 0.01 \tNoise Factor 1.883335\n"
     ]
    },
    {
     "name": "stderr",
     "output_type": "stream",
     "text": [
      "episode: 795/10000   7% ETA:  0:16:03 |\\\\\\                                   | \r"
     ]
    },
    {
     "name": "stdout",
     "output_type": "stream",
     "text": [
      "\n",
      "Elapsed time 1.4 \t Update Count 770 \t Last Episode t 14 \n",
      "Episode 800 \tAverage Score: 0.00 \tNoise Factor 1.846041\n"
     ]
    },
    {
     "name": "stderr",
     "output_type": "stream",
     "text": [
      "episode: 998/10000   9% ETA:  0:15:40 |\\\\\\                                   | \r"
     ]
    },
    {
     "name": "stdout",
     "output_type": "stream",
     "text": [
      "\n",
      "Elapsed time 1.7 \t Update Count 970 \t Last Episode t 13 \n",
      "Episode 1000 \tAverage Score: 0.00 \tNoise Factor 1.809485\n"
     ]
    },
    {
     "name": "stderr",
     "output_type": "stream",
     "text": [
      "episode: 1201/10000  12% ETA:  0:15:16 |\\\\\\\\                                 | \r"
     ]
    },
    {
     "name": "stdout",
     "output_type": "stream",
     "text": [
      "\n",
      "Elapsed time 2.1 \t Update Count 1170 \t Last Episode t 13 \n",
      "Episode 1200 \tAverage Score: 0.00 \tNoise Factor 1.773653\n"
     ]
    },
    {
     "name": "stderr",
     "output_type": "stream",
     "text": [
      "episode: 1400/10000  14% ETA:  0:15:07 ||||||                                | \r"
     ]
    },
    {
     "name": "stdout",
     "output_type": "stream",
     "text": [
      "\n",
      "Elapsed time 2.5 \t Update Count 1370 \t Last Episode t 13 \n",
      "Episode 1400 \tAverage Score: 0.02 \tNoise Factor 1.738530\n"
     ]
    },
    {
     "name": "stderr",
     "output_type": "stream",
     "text": [
      "episode: 1601/10000  16% ETA:  0:15:15 |/////                                | \r"
     ]
    },
    {
     "name": "stdout",
     "output_type": "stream",
     "text": [
      "\n",
      "Elapsed time 2.9 \t Update Count 1570 \t Last Episode t 14 \n",
      "Episode 1600 \tAverage Score: 0.05 \tNoise Factor 1.704104\n"
     ]
    },
    {
     "name": "stderr",
     "output_type": "stream",
     "text": [
      "episode: 1797/10000  17% ETA:  0:15:25 |\\\\\\\\\\\\                               | \r"
     ]
    },
    {
     "name": "stdout",
     "output_type": "stream",
     "text": [
      "\n",
      "Elapsed time 3.4 \t Update Count 1770 \t Last Episode t 13 \n",
      "Episode 1800 \tAverage Score: 0.06 \tNoise Factor 1.670358\n"
     ]
    },
    {
     "name": "stderr",
     "output_type": "stream",
     "text": [
      "episode: 1996/10000  19% ETA:  0:15:35 |\\\\\\\\\\\\\\                              | \r"
     ]
    },
    {
     "name": "stdout",
     "output_type": "stream",
     "text": [
      "\n",
      "Elapsed time 3.9 \t Update Count 1970 \t Last Episode t 29 \n",
      "Episode 2000 \tAverage Score: 0.07 \tNoise Factor 1.637281\n"
     ]
    },
    {
     "name": "stderr",
     "output_type": "stream",
     "text": [
      "episode: 2198/10000  21% ETA:  0:15:48 |--------                             | \r"
     ]
    },
    {
     "name": "stdout",
     "output_type": "stream",
     "text": [
      "\n",
      "Elapsed time 4.5 \t Update Count 2170 \t Last Episode t 29 \n",
      "Episode 2200 \tAverage Score: 0.08 \tNoise Factor 1.604859\n"
     ]
    },
    {
     "name": "stderr",
     "output_type": "stream",
     "text": [
      "episode: 2401/10000  24% ETA:  0:15:53 |////////                             | \r"
     ]
    },
    {
     "name": "stdout",
     "output_type": "stream",
     "text": [
      "\n",
      "Elapsed time 5.0 \t Update Count 2370 \t Last Episode t 30 \n",
      "Episode 2400 \tAverage Score: 0.08 \tNoise Factor 1.573080\n"
     ]
    },
    {
     "name": "stderr",
     "output_type": "stream",
     "text": [
      "episode: 2597/10000  25% ETA:  0:15:51 |\\\\\\\\\\\\\\\\\\                            | \r"
     ]
    },
    {
     "name": "stdout",
     "output_type": "stream",
     "text": [
      "\n",
      "Elapsed time 5.6 \t Update Count 2570 \t Last Episode t 53 \n",
      "Episode 2600 \tAverage Score: 0.08 \tNoise Factor 1.541929\n"
     ]
    },
    {
     "name": "stderr",
     "output_type": "stream",
     "text": [
      "episode: 2798/10000  27% ETA:  0:15:45 |----------                           | \r"
     ]
    },
    {
     "name": "stdout",
     "output_type": "stream",
     "text": [
      "\n",
      "Elapsed time 6.1 \t Update Count 2770 \t Last Episode t 29 \n",
      "Episode 2800 \tAverage Score: 0.08 \tNoise Factor 1.511395\n"
     ]
    },
    {
     "name": "stderr",
     "output_type": "stream",
     "text": [
      "episode: 2997/10000  29% ETA:  0:15:37 |///////////                          | \r"
     ]
    },
    {
     "name": "stdout",
     "output_type": "stream",
     "text": [
      "\n",
      "Elapsed time 6.7 \t Update Count 2970 \t Last Episode t 13 \n",
      "Episode 3000 \tAverage Score: 0.08 \tNoise Factor 1.481466\n"
     ]
    },
    {
     "name": "stderr",
     "output_type": "stream",
     "text": [
      "episode: 3198/10000  31% ETA:  0:15:27 |///////////                          | \r"
     ]
    },
    {
     "name": "stdout",
     "output_type": "stream",
     "text": [
      "\n",
      "Elapsed time 7.3 \t Update Count 3170 \t Last Episode t 30 \n",
      "Episode 3200 \tAverage Score: 0.09 \tNoise Factor 1.452130\n"
     ]
    },
    {
     "name": "stderr",
     "output_type": "stream",
     "text": [
      "episode: 3401/10000  34% ETA:  0:15:16 |------------                         | \r"
     ]
    },
    {
     "name": "stdout",
     "output_type": "stream",
     "text": [
      "\n",
      "Elapsed time 7.9 \t Update Count 3370 \t Last Episode t 13 \n",
      "Episode 3400 \tAverage Score: 0.09 \tNoise Factor 1.423374\n"
     ]
    },
    {
     "name": "stderr",
     "output_type": "stream",
     "text": [
      "episode: 3601/10000  36% ETA:  0:15:04 |\\\\\\\\\\\\\\\\\\\\\\\\\\                        | \r"
     ]
    },
    {
     "name": "stdout",
     "output_type": "stream",
     "text": [
      "\n",
      "Elapsed time 8.5 \t Update Count 3570 \t Last Episode t 12 \n",
      "Episode 3600 \tAverage Score: 0.09 \tNoise Factor 1.395188\n"
     ]
    },
    {
     "name": "stderr",
     "output_type": "stream",
     "text": [
      "episode: 3799/10000  37% ETA:  0:14:52 |//////////////                       | \r"
     ]
    },
    {
     "name": "stdout",
     "output_type": "stream",
     "text": [
      "\n",
      "Elapsed time 9.1 \t Update Count 3770 \t Last Episode t 43 \n",
      "Episode 3800 \tAverage Score: 0.10 \tNoise Factor 1.367560\n"
     ]
    },
    {
     "name": "stderr",
     "output_type": "stream",
     "text": [
      "episode: 3999/10000  39% ETA:  0:14:40 |//////////////                       | \r"
     ]
    },
    {
     "name": "stdout",
     "output_type": "stream",
     "text": [
      "\n",
      "Elapsed time 9.8 \t Update Count 3970 \t Last Episode t 52 \n",
      "Episode 4000 \tAverage Score: 0.10 \tNoise Factor 1.340479\n"
     ]
    },
    {
     "name": "stderr",
     "output_type": "stream",
     "text": [
      "episode: 4199/10000  41% ETA:  0:14:29 |---------------                      | \r"
     ]
    },
    {
     "name": "stdout",
     "output_type": "stream",
     "text": [
      "\n",
      "Elapsed time 10.5 \t Update Count 4170 \t Last Episode t 29 \n",
      "Episode 4200 \tAverage Score: 0.10 \tNoise Factor 1.313935\n"
     ]
    },
    {
     "name": "stderr",
     "output_type": "stream",
     "text": [
      "episode: 4401/10000  44% ETA:  0:14:09 |||||||||||||||||                     | \r"
     ]
    },
    {
     "name": "stdout",
     "output_type": "stream",
     "text": [
      "\n",
      "Elapsed time 11.1 \t Update Count 4370 \t Last Episode t 30 \n",
      "Episode 4400 \tAverage Score: 0.09 \tNoise Factor 1.287916\n"
     ]
    },
    {
     "name": "stderr",
     "output_type": "stream",
     "text": [
      "episode: 4598/10000  45% ETA:  0:13:48 |-----------------                    | \r"
     ]
    },
    {
     "name": "stdout",
     "output_type": "stream",
     "text": [
      "\n",
      "Elapsed time 11.8 \t Update Count 4570 \t Last Episode t 87 \n",
      "Episode 4600 \tAverage Score: 0.09 \tNoise Factor 1.262412\n"
     ]
    },
    {
     "name": "stderr",
     "output_type": "stream",
     "text": [
      "episode: 4798/10000  47% ETA:  0:13:32 ||||||||||||||||||                    | \r"
     ]
    },
    {
     "name": "stdout",
     "output_type": "stream",
     "text": [
      "\n",
      "Elapsed time 12.5 \t Update Count 4770 \t Last Episode t 70 \n",
      "Episode 4800 \tAverage Score: 0.10 \tNoise Factor 1.237413\n"
     ]
    },
    {
     "name": "stderr",
     "output_type": "stream",
     "text": [
      "episode: 4999/10000  49% ETA:  0:13:15 |||||||||||||||||||                   | \r"
     ]
    },
    {
     "name": "stdout",
     "output_type": "stream",
     "text": [
      "\n",
      "Elapsed time 13.3 \t Update Count 4970 \t Last Episode t 51 \n",
      "Episode 5000 \tAverage Score: 0.10 \tNoise Factor 1.212910\n"
     ]
    },
    {
     "name": "stderr",
     "output_type": "stream",
     "text": [
      "episode: 5200/10000  52% ETA:  0:13:00 ||||||||||||||||||||                  | \r"
     ]
    },
    {
     "name": "stdout",
     "output_type": "stream",
     "text": [
      "\n",
      "Elapsed time 14.1 \t Update Count 5170 \t Last Episode t 13 \n",
      "Episode 5200 \tAverage Score: 0.12 \tNoise Factor 1.188891\n"
     ]
    },
    {
     "name": "stderr",
     "output_type": "stream",
     "text": [
      "episode: 5400/10000  54% ETA:  0:12:50 |-------------------                  | \r"
     ]
    },
    {
     "name": "stdout",
     "output_type": "stream",
     "text": [
      "\n",
      "Elapsed time 15.1 \t Update Count 5370 \t Last Episode t 86 \n",
      "Episode 5400 \tAverage Score: 0.14 \tNoise Factor 1.165348\n"
     ]
    },
    {
     "name": "stderr",
     "output_type": "stream",
     "text": [
      "episode: 5599/10000  55% ETA:  0:12:43 |--------------------                 | \r"
     ]
    },
    {
     "name": "stdout",
     "output_type": "stream",
     "text": [
      "\n",
      "Elapsed time 16.2 \t Update Count 5570 \t Last Episode t 29 \n",
      "Episode 5600 \tAverage Score: 0.16 \tNoise Factor 1.142272\n"
     ]
    },
    {
     "name": "stderr",
     "output_type": "stream",
     "text": [
      "episode: 5800/10000  58% ETA:  0:12:24 |---------------------                | \r"
     ]
    },
    {
     "name": "stdout",
     "output_type": "stream",
     "text": [
      "\n",
      "Elapsed time 17.1 \t Update Count 5770 \t Last Episode t 13 \n",
      "Episode 5800 \tAverage Score: 0.14 \tNoise Factor 1.119652\n"
     ]
    },
    {
     "name": "stderr",
     "output_type": "stream",
     "text": [
      "episode: 6000/10000  60% ETA:  0:12:18 |----------------------               | \r"
     ]
    },
    {
     "name": "stdout",
     "output_type": "stream",
     "text": [
      "\n",
      "Elapsed time 18.5 \t Update Count 5970 \t Last Episode t 61 \n",
      "Episode 6000 \tAverage Score: 0.19 \tNoise Factor 1.097481\n"
     ]
    },
    {
     "name": "stderr",
     "output_type": "stream",
     "text": [
      "episode: 6201/10000  62% ETA:  0:12:00 |//////////////////////               | \r"
     ]
    },
    {
     "name": "stdout",
     "output_type": "stream",
     "text": [
      "\n",
      "Elapsed time 19.6 \t Update Count 6170 \t Last Episode t 169 \n",
      "Episode 6200 \tAverage Score: 0.17 \tNoise Factor 1.075748\n"
     ]
    },
    {
     "name": "stderr",
     "output_type": "stream",
     "text": [
      "episode: 6399/10000  63% ETA:  0:11:36 ||||||||||||||||||||||||              | \r"
     ]
    },
    {
     "name": "stdout",
     "output_type": "stream",
     "text": [
      "\n",
      "Elapsed time 20.6 \t Update Count 6370 \t Last Episode t 29 \n",
      "Episode 6400 \tAverage Score: 0.15 \tNoise Factor 1.054446\n"
     ]
    },
    {
     "name": "stderr",
     "output_type": "stream",
     "text": [
      "episode: 6599/10000  65% ETA:  0:11:16 |////////////////////////             | \r"
     ]
    },
    {
     "name": "stdout",
     "output_type": "stream",
     "text": [
      "\n",
      "Elapsed time 21.9 \t Update Count 6570 \t Last Episode t 30 \n",
      "Episode 6600 \tAverage Score: 0.20 \tNoise Factor 1.033565\n"
     ]
    },
    {
     "name": "stderr",
     "output_type": "stream",
     "text": [
      "episode: 6800/10000  68% ETA:  0:10:55 ||||||||||||||||||||||||||            | \r"
     ]
    },
    {
     "name": "stdout",
     "output_type": "stream",
     "text": [
      "\n",
      "Elapsed time 23.2 \t Update Count 6770 \t Last Episode t 34 \n",
      "Episode 6800 \tAverage Score: 0.20 \tNoise Factor 1.013098\n"
     ]
    },
    {
     "name": "stderr",
     "output_type": "stream",
     "text": [
      "episode: 7001/10000  70% ETA:  0:10:34 |-------------------------            | \r"
     ]
    },
    {
     "name": "stdout",
     "output_type": "stream",
     "text": [
      "\n",
      "Elapsed time 24.7 \t Update Count 6970 \t Last Episode t 54 \n",
      "Episode 7000 \tAverage Score: 0.23 \tNoise Factor 0.993037\n"
     ]
    },
    {
     "name": "stderr",
     "output_type": "stream",
     "text": [
      "episode: 7199/10000  71% ETA:  0:10:10 |--------------------------           | \r"
     ]
    },
    {
     "name": "stdout",
     "output_type": "stream",
     "text": [
      "\n",
      "Elapsed time 26.1 \t Update Count 7170 \t Last Episode t 29 \n",
      "Episode 7200 \tAverage Score: 0.24 \tNoise Factor 0.973372\n"
     ]
    },
    {
     "name": "stderr",
     "output_type": "stream",
     "text": [
      "episode: 7400/10000  74% ETA:  0:09:44 ||||||||||||||||||||||||||||          | \r"
     ]
    },
    {
     "name": "stdout",
     "output_type": "stream",
     "text": [
      "\n",
      "Elapsed time 27.7 \t Update Count 7370 \t Last Episode t 140 \n",
      "Episode 7400 \tAverage Score: 0.25 \tNoise Factor 0.954097\n"
     ]
    },
    {
     "name": "stderr",
     "output_type": "stream",
     "text": [
      "episode: 7601/10000  76% ETA:  0:09:24 |||||||||||||||||||||||||||||         | \r"
     ]
    },
    {
     "name": "stdout",
     "output_type": "stream",
     "text": [
      "\n",
      "Elapsed time 29.8 \t Update Count 7570 \t Last Episode t 178 \n",
      "Episode 7600 \tAverage Score: 0.34 \tNoise Factor 0.935204\n"
     ]
    },
    {
     "name": "stderr",
     "output_type": "stream",
     "text": [
      "episode: 7801/10000  78% ETA:  0:09:08 |\\\\\\\\\\\\\\\\\\\\\\\\\\\\\\\\\\\\\\\\\\\\\\\\\\\\\\\\         | \r"
     ]
    },
    {
     "name": "stdout",
     "output_type": "stream",
     "text": [
      "\n",
      "Elapsed time 32.5 \t Update Count 7770 \t Last Episode t 164 \n",
      "Episode 7800 \tAverage Score: 0.43 \tNoise Factor 0.916685\n"
     ]
    },
    {
     "name": "stderr",
     "output_type": "stream",
     "text": [
      "episode: 8001/10000  80% ETA:  0:08:48 |\\\\\\\\\\\\\\\\\\\\\\\\\\\\\\\\\\\\\\\\\\\\\\\\\\\\\\\\\\        | \r"
     ]
    },
    {
     "name": "stdout",
     "output_type": "stream",
     "text": [
      "\n",
      "Elapsed time 35.2 \t Update Count 7970 \t Last Episode t 29 \n",
      "Episode 8000 \tAverage Score: 0.46 \tNoise Factor 0.898532\n"
     ]
    },
    {
     "name": "stderr",
     "output_type": "stream",
     "text": [
      "episode: 8200/10000  82% ETA:  0:08:28 |//////////////////////////////       | \r"
     ]
    },
    {
     "name": "stdout",
     "output_type": "stream",
     "text": [
      "\n",
      "Elapsed time 38.6 \t Update Count 8170 \t Last Episode t 159 \n",
      "Episode 8200 \tAverage Score: 0.58 \tNoise Factor 0.880739\n"
     ]
    },
    {
     "name": "stderr",
     "output_type": "stream",
     "text": [
      "episode: 8401/10000  84% ETA:  0:07:58 |\\\\\\\\\\\\\\\\\\\\\\\\\\\\\\\\\\\\\\\\\\\\\\\\\\\\\\\\\\\\\\      | \r"
     ]
    },
    {
     "name": "stdout",
     "output_type": "stream",
     "text": [
      "\n",
      "Elapsed time 41.9 \t Update Count 8370 \t Last Episode t 709 \n",
      "Episode 8400 \tAverage Score: 0.54 \tNoise Factor 0.863298\n"
     ]
    },
    {
     "name": "stderr",
     "output_type": "stream",
     "text": [
      "episode: 8601/10000  86% ETA:  0:07:21 ||||||||||||||||||||||||||||||||      | \r"
     ]
    },
    {
     "name": "stdout",
     "output_type": "stream",
     "text": [
      "\n",
      "Elapsed time 45.3 \t Update Count 8570 \t Last Episode t 119 \n",
      "Episode 8600 \tAverage Score: 0.57 \tNoise Factor 0.846203\n"
     ]
    },
    {
     "name": "stderr",
     "output_type": "stream",
     "text": [
      "episode: 8799/10000  87% ETA:  0:06:40 |////////////////////////////////     | \r"
     ]
    },
    {
     "name": "stdout",
     "output_type": "stream",
     "text": [
      "\n",
      "Elapsed time 48.9 \t Update Count 8770 \t Last Episode t 29 \n",
      "Episode 8800 \tAverage Score: 0.61 \tNoise Factor 0.829446\n"
     ]
    },
    {
     "name": "stderr",
     "output_type": "stream",
     "text": [
      "episode: 9001/10000  90% ETA:  0:05:48 |\\\\\\\\\\\\\\\\\\\\\\\\\\\\\\\\\\\\\\\\\\\\\\\\\\\\\\\\\\\\\\\\\\    | \r"
     ]
    },
    {
     "name": "stdout",
     "output_type": "stream",
     "text": [
      "\n",
      "Elapsed time 52.4 \t Update Count 8970 \t Last Episode t 279 \n",
      "Episode 9000 \tAverage Score: 0.58 \tNoise Factor 0.813021\n"
     ]
    },
    {
     "name": "stderr",
     "output_type": "stream",
     "text": [
      "episode: 9200/10000  92% ETA:  0:04:54 |//////////////////////////////////   | \r"
     ]
    },
    {
     "name": "stdout",
     "output_type": "stream",
     "text": [
      "\n",
      "Elapsed time 56.5 \t Update Count 9170 \t Last Episode t 89 \n",
      "Episode 9200 \tAverage Score: 0.70 \tNoise Factor 0.796922\n"
     ]
    },
    {
     "name": "stderr",
     "output_type": "stream",
     "text": [
      "episode: 9400/10000  94% ETA:  0:03:52 |//////////////////////////////////   | \r"
     ]
    },
    {
     "name": "stdout",
     "output_type": "stream",
     "text": [
      "\n",
      "Elapsed time 60.7 \t Update Count 9370 \t Last Episode t 76 \n",
      "Episode 9400 \tAverage Score: 0.72 \tNoise Factor 0.781141\n"
     ]
    },
    {
     "name": "stderr",
     "output_type": "stream",
     "text": [
      "episode: 9600/10000  96% ETA:  0:02:43 |-----------------------------------  | \r"
     ]
    },
    {
     "name": "stdout",
     "output_type": "stream",
     "text": [
      "\n",
      "Elapsed time 65.5 \t Update Count 9570 \t Last Episode t 18 \n",
      "Episode 9600 \tAverage Score: 0.81 \tNoise Factor 0.765672\n"
     ]
    },
    {
     "name": "stderr",
     "output_type": "stream",
     "text": [
      "episode: 9801/10000  98% ETA:  0:01:26 |------------------------------------ | \r"
     ]
    },
    {
     "name": "stdout",
     "output_type": "stream",
     "text": [
      "\n",
      "Elapsed time 70.8 \t Update Count 9770 \t Last Episode t 140 \n",
      "Episode 9800 \tAverage Score: 0.92 \tNoise Factor 0.750510\n"
     ]
    },
    {
     "name": "stderr",
     "output_type": "stream",
     "text": [
      "episode: 10000/10000 100% Time: 1:15:41 |||||||||||||||||||||||||||||||||||||| \r"
     ]
    },
    {
     "name": "stdout",
     "output_type": "stream",
     "text": [
      "\n",
      "Elapsed time 75.7 \t Update Count 9969 \t Last Episode t 36 \n",
      "Episode 9999 \tAverage Score: 0.83 \tNoise Factor 0.735722\n",
      "\n",
      "Elapsed time 75.7 \t Update Count 9969 \t Last Episode t 36 \n",
      "Episode 9999 \tAverage Score: 0.83 \tNoise Factor 0.735722\n"
     ]
    },
    {
     "name": "stderr",
     "output_type": "stream",
     "text": [
      "\n"
     ]
    }
   ],
   "source": [
    "    # initialize scores\n",
    "    scores_history = []\n",
    "    scores_window = deque(maxlen=save_interval)\n",
    "\n",
    "    # i_episode = 0\n",
    "    for i_episode in range(number_of_episodes):\n",
    "        timer.update(i_episode)\n",
    "\n",
    "        # Reset Environmet\n",
    "        env_info = env.reset(train_mode=True)[brain_name]\n",
    "        states = env_info.vector_observations\n",
    "        scores = np.zeros(num_agents)\n",
    "\n",
    "        # Reset Agent\n",
    "        maddpg.reset()\n",
    "\n",
    "        # episode_t = 0\n",
    "        for episode_t in range(episode_length):\n",
    "\n",
    "            # Explore with decaying noise factor\n",
    "            actions = maddpg.act(states, noise_factor=noise_factor)\n",
    "            env_info = env.step(actions)[brain_name]             # Environment reacts\n",
    "            next_states = env_info.vector_observations           # get the next states\n",
    "            rewards = env_info.rewards                           # get the rewards\n",
    "            dones = env_info.local_done                          # see if episode has finished\n",
    "\n",
    "            ###################\n",
    "            # Save Experience #\n",
    "            ###################\n",
    "            rebuffer.add(states, actions, rewards, next_states, dones)\n",
    "\n",
    "            scores += rewards\n",
    "            states = next_states\n",
    "\n",
    "            if any(dones):\n",
    "                break\n",
    "\n",
    "        scores_history.append(np.max(scores))       # save most recent score\n",
    "        scores_window.append(np.max(scores))        # save most recent score\n",
    "        avg_rewards = np.mean(scores_window)\n",
    "        noise_factor = max(noise_floor, noise_factor*noise_reduction)    # Reduce Noise Factor\n",
    "\n",
    "        #########\n",
    "        # LEARN #\n",
    "        #########\n",
    "        # Update Every episode_per_update\n",
    "        if len(rebuffer) > batchsize and i_episode % episode_per_update == 0:\n",
    "            for a_i in range(num_agents):\n",
    "                samples = rebuffer.sample(batchsize)\n",
    "                maddpg.update(samples, a_i, logger)\n",
    "            # Soft Update\n",
    "            maddpg.update_targets()\n",
    "\n",
    "        ##################\n",
    "        # Track Progress #\n",
    "        ##################\n",
    "        if i_episode % save_interval == 0 or i_episode == number_of_episodes-1:\n",
    "            logger.add_scalars('rewards', {'Avg Reward': avg_rewards, 'Noise Factor': noise_factor}, i_episode)\n",
    "            print('\\nElapsed time {:.1f} \\t Update Count {} \\t Last Episode t {}'.format((time.time() - start)/60, maddpg.update_count, episode_t),\n",
    "                  '\\nEpisode {} \\tAverage Score: {:.2f} \\tNoise Factor {:2f}'.format(i_episode, avg_rewards, noise_factor), end=\"\\n\")\n",
    "\n",
    "        ##############\n",
    "        # Save Model #\n",
    "        ##############\n",
    "        save_info = ((i_episode) % save_interval == 0 or i_episode == (number_of_episodes-1))\n",
    "        if save_info:\n",
    "            save_dict_list = []\n",
    "            for i in range(num_agents):\n",
    "                save_dict = {'actor_params': maddpg.maddpg_agent[i].actor.state_dict(),\n",
    "                             'actor_optim_params': maddpg.maddpg_agent[i].actor_optimizer.state_dict(),\n",
    "                             'critic_params': maddpg.maddpg_agent[i].critic.state_dict(),\n",
    "                             'critic_optim_params': maddpg.maddpg_agent[i].critic_optimizer.state_dict()}\n",
    "                save_dict_list.append(save_dict)\n",
    "            torch.save(save_dict_list, os.path.join(model_dir, 'episode-Latest.pt'))\n",
    "\n",
    "            pd.Series(scores_history).to_csv(os.path.join(model_dir, \"scores.csv\"))\n",
    "\n",
    "            # plot the scores\n",
    "            rolling_mean = pd.Series(scores_history).rolling(win_len).mean()\n",
    "            fig = plt.figure()\n",
    "            # ax = fig.add_subplot(111)\n",
    "            plt.plot(np.arange(len(scores_history)), scores_history)\n",
    "            plt.axhline(y=tgt_score, color='r', linestyle='dashed')\n",
    "            plt.plot(rolling_mean, lw=3)\n",
    "            plt.ylabel('Score')\n",
    "            plt.xlabel('Episode #')\n",
    "            # plt.show()\n",
    "            fig.savefig(os.path.join(model_dir, 'Average_Score.pdf'))\n",
    "            fig.savefig(os.path.join(model_dir, 'Average_Score.jpg'))\n",
    "            plt.close()\n",
    "\n",
    "        if (avg_rewards > tgt_score * 3) or i_episode == (number_of_episodes-1):\n",
    "            logger.add_scalars('rewards', {'Avg Reward': avg_rewards, 'Noise Factor': noise_factor}, i_episode)\n",
    "            print('\\nElapsed time {:.1f} \\t Update Count {} \\t Last Episode t {}'.format((time.time() - start)/60, maddpg.update_count, episode_t),\n",
    "                  '\\nEpisode {} \\tAverage Score: {:.2f} \\tNoise Factor {:2f}'.format(i_episode, avg_rewards, noise_factor), end=\"\\n\")\n",
    "            break\n",
    "\n",
    "    # env.close()\n",
    "    logger.close()\n",
    "    timer.finish()\n"
   ]
  },
  {
   "cell_type": "markdown",
   "metadata": {},
   "source": [
    "### Check Score"
   ]
  },
  {
   "cell_type": "code",
   "execution_count": 13,
   "metadata": {},
   "outputs": [
    {
     "data": {
      "text/html": [
       "<div>\n",
       "<style scoped>\n",
       "    .dataframe tbody tr th:only-of-type {\n",
       "        vertical-align: middle;\n",
       "    }\n",
       "\n",
       "    .dataframe tbody tr th {\n",
       "        vertical-align: top;\n",
       "    }\n",
       "\n",
       "    .dataframe thead th {\n",
       "        text-align: right;\n",
       "    }\n",
       "</style>\n",
       "<table border=\"1\" class=\"dataframe\">\n",
       "  <thead>\n",
       "    <tr style=\"text-align: right;\">\n",
       "      <th></th>\n",
       "      <th>Score</th>\n",
       "    </tr>\n",
       "  </thead>\n",
       "  <tbody>\n",
       "    <tr>\n",
       "      <th>9995.0</th>\n",
       "      <td>0.09</td>\n",
       "    </tr>\n",
       "    <tr>\n",
       "      <th>9996.0</th>\n",
       "      <td>0.39</td>\n",
       "    </tr>\n",
       "    <tr>\n",
       "      <th>9997.0</th>\n",
       "      <td>0.10</td>\n",
       "    </tr>\n",
       "    <tr>\n",
       "      <th>9998.0</th>\n",
       "      <td>2.60</td>\n",
       "    </tr>\n",
       "    <tr>\n",
       "      <th>9999.0</th>\n",
       "      <td>0.10</td>\n",
       "    </tr>\n",
       "  </tbody>\n",
       "</table>\n",
       "</div>"
      ],
      "text/plain": [
       "        Score\n",
       "9995.0   0.09\n",
       "9996.0   0.39\n",
       "9997.0   0.10\n",
       "9998.0   2.60\n",
       "9999.0   0.10"
      ]
     },
     "execution_count": 13,
     "metadata": {},
     "output_type": "execute_result"
    }
   ],
   "source": [
    "scores_history = pd.read_csv(os.path.join(model_dir, \"scores.csv\"), index_col=0, header=None, names =['Score'])\n",
    "scores_history.tail()"
   ]
  },
  {
   "cell_type": "code",
   "execution_count": 14,
   "metadata": {},
   "outputs": [
    {
     "data": {
      "text/html": [
       "<div>\n",
       "<style scoped>\n",
       "    .dataframe tbody tr th:only-of-type {\n",
       "        vertical-align: middle;\n",
       "    }\n",
       "\n",
       "    .dataframe tbody tr th {\n",
       "        vertical-align: top;\n",
       "    }\n",
       "\n",
       "    .dataframe thead th {\n",
       "        text-align: right;\n",
       "    }\n",
       "</style>\n",
       "<table border=\"1\" class=\"dataframe\">\n",
       "  <thead>\n",
       "    <tr style=\"text-align: right;\">\n",
       "      <th></th>\n",
       "      <th>Score</th>\n",
       "    </tr>\n",
       "  </thead>\n",
       "  <tbody>\n",
       "    <tr>\n",
       "      <th>9995.0</th>\n",
       "      <td>0.8507</td>\n",
       "    </tr>\n",
       "    <tr>\n",
       "      <th>9996.0</th>\n",
       "      <td>0.8446</td>\n",
       "    </tr>\n",
       "    <tr>\n",
       "      <th>9997.0</th>\n",
       "      <td>0.8266</td>\n",
       "    </tr>\n",
       "    <tr>\n",
       "      <th>9998.0</th>\n",
       "      <td>0.8366</td>\n",
       "    </tr>\n",
       "    <tr>\n",
       "      <th>9999.0</th>\n",
       "      <td>0.8116</td>\n",
       "    </tr>\n",
       "  </tbody>\n",
       "</table>\n",
       "</div>"
      ],
      "text/plain": [
       "         Score\n",
       "9995.0  0.8507\n",
       "9996.0  0.8446\n",
       "9997.0  0.8266\n",
       "9998.0  0.8366\n",
       "9999.0  0.8116"
      ]
     },
     "execution_count": 14,
     "metadata": {},
     "output_type": "execute_result"
    }
   ],
   "source": [
    "rolling_mean = scores_history.rolling(win_len).mean()\n",
    "rolling_mean.tail()"
   ]
  },
  {
   "cell_type": "code",
   "execution_count": 15,
   "metadata": {},
   "outputs": [
    {
     "data": {
      "image/png": "[encoded data removed]",
      "text/plain": [
       "<Figure size 432x288 with 1 Axes>"
      ]
     },
     "metadata": {
      "needs_background": "light"
     },
     "output_type": "display_data"
    }
   ],
   "source": [
    "# plot the scores\n",
    "fig = plt.figure()\n",
    "# ax = fig.add_subplot(111)\n",
    "plt.plot(np.arange(len(scores_history)), scores_history)\n",
    "plt.axhline(y=tgt_score, color='r', linestyle='dashed')\n",
    "plt.plot(rolling_mean, lw=3)\n",
    "plt.ylabel('Score')\n",
    "plt.xlabel('Episode #')\n",
    "# plt.show()\n",
    "fig.savefig(os.path.join(model_dir, 'Average_Score_Final.pdf'))\n",
    "fig.savefig(os.path.join(model_dir, 'Average_Score_Final.jpg'))"
   ]
  },
  {
   "cell_type": "markdown",
   "metadata": {},
   "source": [
    "## PLAY SMART AGENT"
   ]
  },
  {
   "cell_type": "code",
   "execution_count": 16,
   "metadata": {},
   "outputs": [],
   "source": [
    "load_model=True\n",
    "if load_model:\n",
    "    load_dict_list = torch.load(os.path.join(model_dir, 'episode-Latest.pt'))\n",
    "    for i in range(num_agents):\n",
    "        maddpg.maddpg_agent[i].actor.load_state_dict(load_dict_list[i]['actor_params'])\n",
    "        maddpg.maddpg_agent[i].actor_optimizer.load_state_dict(load_dict_list[i]['actor_optim_params'])\n",
    "        maddpg.maddpg_agent[i].critic.load_state_dict(load_dict_list[i]['critic_params'])\n",
    "        maddpg.maddpg_agent[i].critic_optimizer.load_state_dict(load_dict_list[i]['critic_optim_params'])"
   ]
  },
  {
   "cell_type": "code",
   "execution_count": 17,
   "metadata": {},
   "outputs": [],
   "source": [
    "# env = UnityEnvironment(file_name=\"/data/Tennis_Linux_NoVis/Tennis\")\n",
    "# brain_name = env.brain_names[0]\n",
    "# brain = env.brains[brain_name]"
   ]
  },
  {
   "cell_type": "code",
   "execution_count": 18,
   "metadata": {},
   "outputs": [
    {
     "name": "stdout",
     "output_type": "stream",
     "text": [
      "Score (max over agents) from episode 0: 0.2000\n",
      "Score (max over agents) from episode 1: 0.3000\n",
      "Score (max over agents) from episode 2: 0.0900\n"
     ]
    }
   ],
   "source": [
    "## Play \n",
    "for i in range(3):\n",
    "    env_info = env.reset(train_mode=False)[brain_name]\n",
    "    states = env_info.vector_observations\n",
    "    scores = np.zeros(num_agents)\n",
    "    for j in range(200):\n",
    "        actions = maddpg.act(states)\n",
    "        env_info = env.step(actions)[brain_name]\n",
    "        next_states = env_info.vector_observations    # get the next state\n",
    "        rewards = env_info.rewards                    # get the reward\n",
    "        dones = env_info.local_done                   # see if episode has finished\n",
    "        scores += rewards                             # update the score\n",
    "        states = next_states                          # roll over the state to next time step\n",
    "        if np.any(dones):\n",
    "            break\n",
    "    print('Score (max over agents) from episode {}: {:.4f}'.format(i, np.max(scores)))\n"
   ]
  },
  {
   "cell_type": "code",
   "execution_count": 19,
   "metadata": {},
   "outputs": [],
   "source": [
    "env.close()"
   ]
  },
  {
   "cell_type": "code",
   "execution_count": null,
   "metadata": {},
   "outputs": [],
   "source": []
  }
 ],
 "metadata": {
  "kernelspec": {
   "display_name": "drlnd",
   "language": "python",
   "name": "drlnd"
  },
  "language_info": {
   "codemirror_mode": {
    "name": "ipython",
    "version": 3
   },
   "file_extension": ".py",
   "mimetype": "text/x-python",
   "name": "python",
   "nbconvert_exporter": "python",
   "pygments_lexer": "ipython3",
   "version": "3.6.13"
  }
 },
 "nbformat": 4,
 "nbformat_minor": 2
}
